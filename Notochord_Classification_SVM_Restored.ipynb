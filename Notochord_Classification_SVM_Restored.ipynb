{
  "nbformat": 4,
  "nbformat_minor": 0,
  "metadata": {
    "colab": {
      "provenance": [],
      "include_colab_link": true
    },
    "kernelspec": {
      "name": "python3",
      "display_name": "Python 3"
    },
    "language_info": {
      "name": "python"
    }
  },
  "cells": [
    {
      "cell_type": "markdown",
      "metadata": {
        "id": "view-in-github",
        "colab_type": "text"
      },
      "source": [
        "<a href=\"https://colab.research.google.com/github/niclacey/Cell-Packing/blob/main/Notochord_Classification_SVM_Restored.ipynb\" target=\"_parent\"><img src=\"https://colab.research.google.com/assets/colab-badge.svg\" alt=\"Open In Colab\"/></a>"
      ]
    },
    {
      "cell_type": "markdown",
      "metadata": {
        "id": "mjn-QG47ADAn"
      },
      "source": [
        "# Notebook \\#5: SVM, Perceptron, SGD, and PCA\n",
        "**Due:** Tuesday 11/9, by 11:59pm\n",
        "\n",
        "Name:\n",
        "\n",
        "**Exercises**: \\\\\n",
        "Build a **default model** for each of the following and then build a model with **one parameter tuned** (no need to include a graph, just change one parameter that hopefully results in a better model):\n",
        "1. Support Vector Machines\n",
        "2. Perceptron\n",
        "3. Stochastic Gradient Descent\n",
        "4. Run a PCA on the best model\n",
        "5. Answer the conclusion questions\n"
      ]
    },
    {
      "cell_type": "code",
      "metadata": {
        "colab": {
          "base_uri": "https://localhost:8080/",
          "height": 421
        },
        "id": "R65ec-xVAAQO",
        "outputId": "f68e3174-30c8-4dab-fc77-ca4a3b047290"
      },
      "source": [
        "from google.colab import drive\n",
        "import pandas as pd\n",
        "drive.mount('/content/drive')\n",
        "data= pd.read_csv('/content/SVM attempt.csv')\n",
        "data.head()"
      ],
      "execution_count": 3,
      "outputs": [
        {
          "output_type": "stream",
          "name": "stdout",
          "text": [
            "Drive already mounted at /content/drive; to attempt to forcibly remount, call drive.mount(\"/content/drive\", force_remount=True).\n"
          ]
        },
        {
          "output_type": "execute_result",
          "data": {
            "text/plain": [
              "   Number of Sheath Cells  Number of Interior Cells  \\\n",
              "0                       9                         2   \n",
              "1                       9                         2   \n",
              "2                       9                         2   \n",
              "3                       9                         2   \n",
              "4                       9                         2   \n",
              "\n",
              "   Interior Volume constraint (per interior cell)  \\\n",
              "0                                            1.57   \n",
              "1                                            1.57   \n",
              "2                                            1.57   \n",
              "3                                            1.57   \n",
              "4                                            1.57   \n",
              "\n",
              "   Sheath Volume constraint (per sheath cell)  Sheath to Medium Tension  \\\n",
              "0                                      0.0723                  0.050000   \n",
              "1                                      0.0723                  0.520000   \n",
              "2                                      0.0723                  0.210000   \n",
              "3                                      0.0723                  0.233678   \n",
              "4                                      0.0723                  0.790000   \n",
              "\n",
              "   Sheath to Interior Tension  Sheath to Sheath Tension  \\\n",
              "0                    2.970000                  3.660000   \n",
              "1                    2.220000                  4.420000   \n",
              "2                    2.320000                  0.680000   \n",
              "3                    2.974902                  4.754603   \n",
              "4                    3.140000                  4.580000   \n",
              "\n",
              "   Interior to Interior Tension  Alpha (stm / sts)  Beta (sti/sts)  ...  \\\n",
              "0                       2.03000               0.01            0.81  ...   \n",
              "1                       1.29000               0.12            0.50  ...   \n",
              "2                       1.41000               0.36            3.40  ...   \n",
              "3                       3.30596               0.05            0.63  ...   \n",
              "4                       3.35000               0.17            0.68  ...   \n",
              "\n",
              "   ratio non-corner and corner sheath pressures  \\\n",
              "0                                          0.77   \n",
              "1                                          0.75   \n",
              "2                                          3.86   \n",
              "3                                          0.72   \n",
              "4                                          0.50   \n",
              "\n",
              "   Standard Deviation of Sheath Cell Values  \\\n",
              "0                                      1.38   \n",
              "1                                      2.42   \n",
              "2                                      0.30   \n",
              "3                                      2.29   \n",
              "4                                      2.65   \n",
              "\n",
              "   Coefficient of Variation of non-corner sheath cell pressures  \\\n",
              "0                                               0.46              \n",
              "1                                               1.19              \n",
              "2                                               3.39              \n",
              "3                                               0.78              \n",
              "4                                               1.73              \n",
              "\n",
              "   Body 10 [Interior]  Body 11 [Interior]  Average Interior Values (Pressure)  \\\n",
              "0            1.082000            0.323000                               0.703   \n",
              "1           -1.898000           -1.142000                              -1.520   \n",
              "2            1.947235            1.904648                               1.926   \n",
              "3            0.236605           -1.104918                              -0.434   \n",
              "4            1.096000            0.195000                              -1.409   \n",
              "\n",
              "   ratio interior cell pressure  Inner aspect ratio  Outer Aspect Ratio  \\\n",
              "0                         0.299            1.109000            1.030000   \n",
              "1                         0.602            1.001000            1.024000   \n",
              "2                         0.978            1.065221            1.054101   \n",
              "3                        -4.670            1.014991            1.037155   \n",
              "4                         0.178            1.017000            1.038000   \n",
              "\n",
              "   Total Flag  \n",
              "0         bad  \n",
              "1         bad  \n",
              "2         bad  \n",
              "3         bad  \n",
              "4         bad  \n",
              "\n",
              "[5 rows x 36 columns]"
            ],
            "text/html": [
              "\n",
              "  <div id=\"df-827eff02-7eda-4039-9037-511ee3ec297c\">\n",
              "    <div class=\"colab-df-container\">\n",
              "      <div>\n",
              "<style scoped>\n",
              "    .dataframe tbody tr th:only-of-type {\n",
              "        vertical-align: middle;\n",
              "    }\n",
              "\n",
              "    .dataframe tbody tr th {\n",
              "        vertical-align: top;\n",
              "    }\n",
              "\n",
              "    .dataframe thead th {\n",
              "        text-align: right;\n",
              "    }\n",
              "</style>\n",
              "<table border=\"1\" class=\"dataframe\">\n",
              "  <thead>\n",
              "    <tr style=\"text-align: right;\">\n",
              "      <th></th>\n",
              "      <th>Number of Sheath Cells</th>\n",
              "      <th>Number of Interior Cells</th>\n",
              "      <th>Interior Volume constraint (per interior cell)</th>\n",
              "      <th>Sheath Volume constraint (per sheath cell)</th>\n",
              "      <th>Sheath to Medium Tension</th>\n",
              "      <th>Sheath to Interior Tension</th>\n",
              "      <th>Sheath to Sheath Tension</th>\n",
              "      <th>Interior to Interior Tension</th>\n",
              "      <th>Alpha (stm / sts)</th>\n",
              "      <th>Beta (sti/sts)</th>\n",
              "      <th>...</th>\n",
              "      <th>ratio non-corner and corner sheath pressures</th>\n",
              "      <th>Standard Deviation of Sheath Cell Values</th>\n",
              "      <th>Coefficient of Variation of non-corner sheath cell pressures</th>\n",
              "      <th>Body 10 [Interior]</th>\n",
              "      <th>Body 11 [Interior]</th>\n",
              "      <th>Average Interior Values (Pressure)</th>\n",
              "      <th>ratio interior cell pressure</th>\n",
              "      <th>Inner aspect ratio</th>\n",
              "      <th>Outer Aspect Ratio</th>\n",
              "      <th>Total Flag</th>\n",
              "    </tr>\n",
              "  </thead>\n",
              "  <tbody>\n",
              "    <tr>\n",
              "      <th>0</th>\n",
              "      <td>9</td>\n",
              "      <td>2</td>\n",
              "      <td>1.57</td>\n",
              "      <td>0.0723</td>\n",
              "      <td>0.050000</td>\n",
              "      <td>2.970000</td>\n",
              "      <td>3.660000</td>\n",
              "      <td>2.03000</td>\n",
              "      <td>0.01</td>\n",
              "      <td>0.81</td>\n",
              "      <td>...</td>\n",
              "      <td>0.77</td>\n",
              "      <td>1.38</td>\n",
              "      <td>0.46</td>\n",
              "      <td>1.082000</td>\n",
              "      <td>0.323000</td>\n",
              "      <td>0.703</td>\n",
              "      <td>0.299</td>\n",
              "      <td>1.109000</td>\n",
              "      <td>1.030000</td>\n",
              "      <td>bad</td>\n",
              "    </tr>\n",
              "    <tr>\n",
              "      <th>1</th>\n",
              "      <td>9</td>\n",
              "      <td>2</td>\n",
              "      <td>1.57</td>\n",
              "      <td>0.0723</td>\n",
              "      <td>0.520000</td>\n",
              "      <td>2.220000</td>\n",
              "      <td>4.420000</td>\n",
              "      <td>1.29000</td>\n",
              "      <td>0.12</td>\n",
              "      <td>0.50</td>\n",
              "      <td>...</td>\n",
              "      <td>0.75</td>\n",
              "      <td>2.42</td>\n",
              "      <td>1.19</td>\n",
              "      <td>-1.898000</td>\n",
              "      <td>-1.142000</td>\n",
              "      <td>-1.520</td>\n",
              "      <td>0.602</td>\n",
              "      <td>1.001000</td>\n",
              "      <td>1.024000</td>\n",
              "      <td>bad</td>\n",
              "    </tr>\n",
              "    <tr>\n",
              "      <th>2</th>\n",
              "      <td>9</td>\n",
              "      <td>2</td>\n",
              "      <td>1.57</td>\n",
              "      <td>0.0723</td>\n",
              "      <td>0.210000</td>\n",
              "      <td>2.320000</td>\n",
              "      <td>0.680000</td>\n",
              "      <td>1.41000</td>\n",
              "      <td>0.36</td>\n",
              "      <td>3.40</td>\n",
              "      <td>...</td>\n",
              "      <td>3.86</td>\n",
              "      <td>0.30</td>\n",
              "      <td>3.39</td>\n",
              "      <td>1.947235</td>\n",
              "      <td>1.904648</td>\n",
              "      <td>1.926</td>\n",
              "      <td>0.978</td>\n",
              "      <td>1.065221</td>\n",
              "      <td>1.054101</td>\n",
              "      <td>bad</td>\n",
              "    </tr>\n",
              "    <tr>\n",
              "      <th>3</th>\n",
              "      <td>9</td>\n",
              "      <td>2</td>\n",
              "      <td>1.57</td>\n",
              "      <td>0.0723</td>\n",
              "      <td>0.233678</td>\n",
              "      <td>2.974902</td>\n",
              "      <td>4.754603</td>\n",
              "      <td>3.30596</td>\n",
              "      <td>0.05</td>\n",
              "      <td>0.63</td>\n",
              "      <td>...</td>\n",
              "      <td>0.72</td>\n",
              "      <td>2.29</td>\n",
              "      <td>0.78</td>\n",
              "      <td>0.236605</td>\n",
              "      <td>-1.104918</td>\n",
              "      <td>-0.434</td>\n",
              "      <td>-4.670</td>\n",
              "      <td>1.014991</td>\n",
              "      <td>1.037155</td>\n",
              "      <td>bad</td>\n",
              "    </tr>\n",
              "    <tr>\n",
              "      <th>4</th>\n",
              "      <td>9</td>\n",
              "      <td>2</td>\n",
              "      <td>1.57</td>\n",
              "      <td>0.0723</td>\n",
              "      <td>0.790000</td>\n",
              "      <td>3.140000</td>\n",
              "      <td>4.580000</td>\n",
              "      <td>3.35000</td>\n",
              "      <td>0.17</td>\n",
              "      <td>0.68</td>\n",
              "      <td>...</td>\n",
              "      <td>0.50</td>\n",
              "      <td>2.65</td>\n",
              "      <td>1.73</td>\n",
              "      <td>1.096000</td>\n",
              "      <td>0.195000</td>\n",
              "      <td>-1.409</td>\n",
              "      <td>0.178</td>\n",
              "      <td>1.017000</td>\n",
              "      <td>1.038000</td>\n",
              "      <td>bad</td>\n",
              "    </tr>\n",
              "  </tbody>\n",
              "</table>\n",
              "<p>5 rows × 36 columns</p>\n",
              "</div>\n",
              "      <button class=\"colab-df-convert\" onclick=\"convertToInteractive('df-827eff02-7eda-4039-9037-511ee3ec297c')\"\n",
              "              title=\"Convert this dataframe to an interactive table.\"\n",
              "              style=\"display:none;\">\n",
              "        \n",
              "  <svg xmlns=\"http://www.w3.org/2000/svg\" height=\"24px\"viewBox=\"0 0 24 24\"\n",
              "       width=\"24px\">\n",
              "    <path d=\"M0 0h24v24H0V0z\" fill=\"none\"/>\n",
              "    <path d=\"M18.56 5.44l.94 2.06.94-2.06 2.06-.94-2.06-.94-.94-2.06-.94 2.06-2.06.94zm-11 1L8.5 8.5l.94-2.06 2.06-.94-2.06-.94L8.5 2.5l-.94 2.06-2.06.94zm10 10l.94 2.06.94-2.06 2.06-.94-2.06-.94-.94-2.06-.94 2.06-2.06.94z\"/><path d=\"M17.41 7.96l-1.37-1.37c-.4-.4-.92-.59-1.43-.59-.52 0-1.04.2-1.43.59L10.3 9.45l-7.72 7.72c-.78.78-.78 2.05 0 2.83L4 21.41c.39.39.9.59 1.41.59.51 0 1.02-.2 1.41-.59l7.78-7.78 2.81-2.81c.8-.78.8-2.07 0-2.86zM5.41 20L4 18.59l7.72-7.72 1.47 1.35L5.41 20z\"/>\n",
              "  </svg>\n",
              "      </button>\n",
              "      \n",
              "  <style>\n",
              "    .colab-df-container {\n",
              "      display:flex;\n",
              "      flex-wrap:wrap;\n",
              "      gap: 12px;\n",
              "    }\n",
              "\n",
              "    .colab-df-convert {\n",
              "      background-color: #E8F0FE;\n",
              "      border: none;\n",
              "      border-radius: 50%;\n",
              "      cursor: pointer;\n",
              "      display: none;\n",
              "      fill: #1967D2;\n",
              "      height: 32px;\n",
              "      padding: 0 0 0 0;\n",
              "      width: 32px;\n",
              "    }\n",
              "\n",
              "    .colab-df-convert:hover {\n",
              "      background-color: #E2EBFA;\n",
              "      box-shadow: 0px 1px 2px rgba(60, 64, 67, 0.3), 0px 1px 3px 1px rgba(60, 64, 67, 0.15);\n",
              "      fill: #174EA6;\n",
              "    }\n",
              "\n",
              "    [theme=dark] .colab-df-convert {\n",
              "      background-color: #3B4455;\n",
              "      fill: #D2E3FC;\n",
              "    }\n",
              "\n",
              "    [theme=dark] .colab-df-convert:hover {\n",
              "      background-color: #434B5C;\n",
              "      box-shadow: 0px 1px 3px 1px rgba(0, 0, 0, 0.15);\n",
              "      filter: drop-shadow(0px 1px 2px rgba(0, 0, 0, 0.3));\n",
              "      fill: #FFFFFF;\n",
              "    }\n",
              "  </style>\n",
              "\n",
              "      <script>\n",
              "        const buttonEl =\n",
              "          document.querySelector('#df-827eff02-7eda-4039-9037-511ee3ec297c button.colab-df-convert');\n",
              "        buttonEl.style.display =\n",
              "          google.colab.kernel.accessAllowed ? 'block' : 'none';\n",
              "\n",
              "        async function convertToInteractive(key) {\n",
              "          const element = document.querySelector('#df-827eff02-7eda-4039-9037-511ee3ec297c');\n",
              "          const dataTable =\n",
              "            await google.colab.kernel.invokeFunction('convertToInteractive',\n",
              "                                                     [key], {});\n",
              "          if (!dataTable) return;\n",
              "\n",
              "          const docLinkHtml = 'Like what you see? Visit the ' +\n",
              "            '<a target=\"_blank\" href=https://colab.research.google.com/notebooks/data_table.ipynb>data table notebook</a>'\n",
              "            + ' to learn more about interactive tables.';\n",
              "          element.innerHTML = '';\n",
              "          dataTable['output_type'] = 'display_data';\n",
              "          await google.colab.output.renderOutput(dataTable, element);\n",
              "          const docLink = document.createElement('div');\n",
              "          docLink.innerHTML = docLinkHtml;\n",
              "          element.appendChild(docLink);\n",
              "        }\n",
              "      </script>\n",
              "    </div>\n",
              "  </div>\n",
              "  "
            ]
          },
          "metadata": {},
          "execution_count": 3
        }
      ]
    },
    {
      "cell_type": "code",
      "metadata": {
        "id": "eoJSa02TAW0k",
        "colab": {
          "base_uri": "https://localhost:8080/",
          "height": 282
        },
        "outputId": "6fc4444d-881b-448a-8945-84675d5963f0"
      },
      "source": [
        "\n",
        "from sklearn.model_selection import train_test_split\n",
        "from sklearn.ensemble import RandomForestClassifier\n",
        "from sklearn.metrics import accuracy_score\n",
        "from sklearn.metrics import confusion_matrix\n",
        "\n",
        "predictors = data.columns.drop('Total Flag') \n",
        "target = \"Total Flag\"\n",
        "\n",
        "train_data, test_data, train_sln, test_sln = train_test_split(data[predictors], data[target], test_size = 0.2, random_state=41)\n",
        "#Normalize Data\n",
        "from sklearn.preprocessing import StandardScaler\n",
        "scaler = StandardScaler()\n",
        "scaler.fit(train_data)\n",
        "train_data = scaler.transform(train_data)\n",
        "test_data = scaler.transform(test_data)\n",
        "train_sln.hist()\n",
        "#now you can use train_data, test_data, train_sln, and test_sln"
      ],
      "execution_count": 4,
      "outputs": [
        {
          "output_type": "execute_result",
          "data": {
            "text/plain": [
              "<matplotlib.axes._subplots.AxesSubplot at 0x7f19e77709d0>"
            ]
          },
          "metadata": {},
          "execution_count": 4
        },
        {
          "output_type": "display_data",
          "data": {
            "text/plain": [
              "<Figure size 432x288 with 1 Axes>"
            ],
            "image/png": "[encoded data removed]"
          },
          "metadata": {
            "needs_background": "light"
          }
        }
      ]
    },
    {
      "cell_type": "markdown",
      "metadata": {
        "id": "w0x6tsdvAw_9"
      },
      "source": [
        "## Exercises:\n",
        "1. Support Vector Classifier: \\\\\n",
        "  a. Default \\\\\n",
        "  b. Tuned"
      ]
    },
    {
      "cell_type": "code",
      "metadata": {
        "id": "woj8I3NsAgCT",
        "colab": {
          "base_uri": "https://localhost:8080/"
        },
        "outputId": "f3d4bc5c-f6a9-44f7-ec45-ec7adbbe9483"
      },
      "source": [
        "from google.colab import drive\n",
        "import pandas as pd\n",
        "import numpy\n",
        "from sklearn.model_selection import train_test_split\n",
        "from sklearn.svm import SVC\n",
        "from sklearn import metrics\n",
        "\n",
        "import matplotlib.pyplot as plt\n",
        "from itertools import product\n",
        "from sklearn.linear_model import Perceptron\n",
        "from sklearn.linear_model import SGDClassifier\n",
        "%matplotlib inline\n",
        "#Default SVC\n",
        "clf = SVC()\n",
        "clf.fit(train_data,train_sln)\n",
        "predictions = clf.predict(test_data)\n",
        "\n",
        "#output accuracy\n",
        "print(\"accuracy:\", metrics.accuracy_score(test_sln, predictions))\n",
        "vals = data[target].unique() ## possible classification values\n",
        "conf_mat = metrics.confusion_matrix(test_sln, predictions, labels=vals)\n",
        "print(pd.DataFrame(conf_mat, index = \"T \" + vals, columns = \"Pred \" + vals))\n",
        "\n"
      ],
      "execution_count": 5,
      "outputs": [
        {
          "output_type": "stream",
          "name": "stdout",
          "text": [
            "accuracy: 0.8666666666666667\n",
            "        Pred bad  Pred good\n",
            "T bad          5          1\n",
            "T good         1          8\n"
          ]
        }
      ]
    },
    {
      "cell_type": "code",
      "metadata": {
        "id": "v0u8mPScGvxc"
      },
      "source": [
        "def plot_decision_boundary(data,x_name,y_name,target_name,clf):\n",
        "    \n",
        "    #list of the values appearing in the target column\n",
        "    class_labels = data[target_name].unique()\n",
        "\n",
        "    #converting from categorical target values to numbers so we can plot them with a contour plot\n",
        "    target_col_nums = data[target_name].replace(to_replace=class_labels,value=range(len(data[target_name].unique())))\n",
        "\n",
        "    #create a grid of points representing new cases that we need a prediction for\n",
        "    #these will serve as the basis for drawing the contours\n",
        "    x_points = numpy.linspace(data[x_name].min(), data[x_name].max(), 300)\n",
        "    y_points = numpy.linspace(data[y_name].min(), data[y_name].max(), 300)\n",
        "    X, Y = numpy.meshgrid(x_points,y_points)\n",
        "\n",
        "    #train our classifier\n",
        "    clf.fit(data[[x_name,y_name]],target_col_nums)\n",
        "\n",
        "    #create the dataframe with all the points in our grid\n",
        "    plot_points = pd.DataFrame(list(product(x_points,y_points)), columns=[x_name,y_name])\n",
        "\n",
        "    #get predictions for each point in our grid\n",
        "    predictions = pd.Series(clf.predict(plot_points))\n",
        "    \n",
        "    #predictions will be a big 1D array, so reshape them to 2-dimensions, same as the shape of the grid\n",
        "    Z = predictions.values.reshape(X.shape)\n",
        "\n",
        "    #draw the filled-in contours\n",
        "    plt.contourf(X, Y, Z,cmap=plt.cm.coolwarm)\n",
        "\n",
        "    #we will plot the training data using a scatter plot, so\n",
        "    #need to grab the same number of colors used by contourf\n",
        "    point_colors = plt.cm.coolwarm(numpy.linspace(0,1,len(class_labels)))\n",
        "\n",
        "    #scatter plot each of the classes in our target column\n",
        "    for curr_class in range(len(class_labels)):\n",
        "        curr_subset = data[target_col_nums == curr_class]\n",
        "        plt.scatter(curr_subset[x_name],curr_subset[y_name],color=point_colors[curr_class],edgecolors='k',label=class_labels[curr_class])\n",
        "    \n",
        "    #display the plot and accompanying info\n",
        "    plt.xlabel(x_name)\n",
        "    plt.ylabel(y_name)\n",
        "    plt.title(str(clf)+'\\ntraining set accuracy:'+str(clf.score(data[[x_name,y_name]],target_col_nums)))\n",
        "    legend = plt.legend(loc='lower right')\n",
        "    legend.get_frame().set_facecolor('silver')\n",
        "    plt.show()"
      ],
      "execution_count": 6,
      "outputs": []
    },
    {
      "cell_type": "code",
      "metadata": {
        "id": "SBdturyeGy65",
        "colab": {
          "base_uri": "https://localhost:8080/",
          "height": 310
        },
        "outputId": "650dfc30-4dde-474c-fe52-a5d1b8e02d74"
      },
      "source": [
        "plot_decision_boundary(data, 'Inner aspect ratio', 'Outer Aspect Ratio', 'Total Flag', clf)"
      ],
      "execution_count": 17,
      "outputs": [
        {
          "output_type": "display_data",
          "data": {
            "text/plain": [
              "<Figure size 432x288 with 1 Axes>"
            ],
            "image/png": "[encoded data removed]"
          },
          "metadata": {
            "needs_background": "light"
          }
        }
      ]
    },
    {
      "cell_type": "code",
      "metadata": {
        "id": "2lCCdv-1At4G",
        "colab": {
          "base_uri": "https://localhost:8080/",
          "height": 379
        },
        "outputId": "dab3d0b1-bc99-4c4b-a458-4d7400317f1b"
      },
      "source": [
        "#Tuned SVC:\n",
        "clf_tuned = SVC(kernel = 'linear', shrinking= False)\n",
        "clf_tuned.fit(train_data,train_sln)\n",
        "predictions = clf_tuned.predict(test_data)\n",
        "\n",
        "#output accuracy\n",
        "print(\"accuracy:\", metrics.accuracy_score(test_sln, predictions))\n",
        "vals = data[target].unique() ## possible classification values\n",
        "conf_mat = metrics.confusion_matrix(test_sln, predictions, labels=vals)\n",
        "print(pd.DataFrame(conf_mat, index = \"T \" + vals, columns = \"Pred \" + vals))\n",
        "\n",
        "plot_decision_boundary(data, 'Inner aspect ratio', 'Outer Aspect Ratio', 'Total Flag', clf_tuned)\n"
      ],
      "execution_count": 20,
      "outputs": [
        {
          "output_type": "stream",
          "name": "stdout",
          "text": [
            "accuracy: 0.8666666666666667\n",
            "        Pred bad  Pred good\n",
            "T bad          5          1\n",
            "T good         1          8\n"
          ]
        },
        {
          "output_type": "display_data",
          "data": {
            "text/plain": [
              "<Figure size 432x288 with 1 Axes>"
            ],
            "image/png": "[encoded data removed]"
          },
          "metadata": {
            "needs_background": "light"
          }
        }
      ]
    },
    {
      "cell_type": "markdown",
      "metadata": {
        "id": "xThi9aH6BGCV"
      },
      "source": [
        "2. Perceptron: \\\\\n",
        "  a. Default \\\\\n",
        "  b. Tuned"
      ]
    },
    {
      "cell_type": "code",
      "metadata": {
        "id": "xyyjn8U3BA0n",
        "colab": {
          "base_uri": "https://localhost:8080/",
          "height": 379
        },
        "outputId": "6eb1b5d5-f336-4564-ffde-bcbbf5f79881"
      },
      "source": [
        "#Default Perceptron\n",
        "dperc = Perceptron()\n",
        "dperc.fit(train_data,train_sln)\n",
        "predictions = dperc.predict(test_data)\n",
        "\n",
        "#output accuracy\n",
        "print(\"accuracy:\", metrics.accuracy_score(test_sln, predictions))\n",
        "vals = data[target].unique() ## possible classification values\n",
        "conf_mat = metrics.confusion_matrix(test_sln, predictions, labels=vals)\n",
        "print(pd.DataFrame(conf_mat, index = \"T \" + vals, columns = \"Pred \" + vals))\n",
        "\n",
        "plot_decision_boundary(data, 'Delta (sts/iti)', 'Outer Aspect Ratio', 'Total Flag', dperc)\n",
        "\n"
      ],
      "execution_count": 23,
      "outputs": [
        {
          "output_type": "stream",
          "name": "stdout",
          "text": [
            "accuracy: 0.8666666666666667\n",
            "        Pred bad  Pred good\n",
            "T bad          5          1\n",
            "T good         1          8\n"
          ]
        },
        {
          "output_type": "display_data",
          "data": {
            "text/plain": [
              "<Figure size 432x288 with 1 Axes>"
            ],
            "image/png": "[encoded data removed]"
          },
          "metadata": {
            "needs_background": "light"
          }
        }
      ]
    },
    {
      "cell_type": "code",
      "metadata": {
        "id": "8fODpCVFJVY5",
        "colab": {
          "base_uri": "https://localhost:8080/",
          "height": 379
        },
        "outputId": "1d00b1a4-754f-4adc-e0d7-a408c468a1e3"
      },
      "source": [
        "#Tuned Perceptron\n",
        "tperc = Perceptron(penalty = 'elasticnet', shuffle = False)\n",
        "tperc.fit(train_data,train_sln)\n",
        "predictions = tperc.predict(test_data)\n",
        "\n",
        "#output accuracy\n",
        "print(\"accuracy:\", metrics.accuracy_score(test_sln, predictions))\n",
        "vals = data[target].unique() ## possible classification values\n",
        "conf_mat = metrics.confusion_matrix(test_sln, predictions, labels=vals)\n",
        "print(pd.DataFrame(conf_mat, index = \"T \" + vals, columns = \"Pred \" + vals))\n",
        "\n",
        "plot_decision_boundary(data, 'Epsilon = (stm/ii)', 'Zeta = (sti/ii)', 'Total Flag', tperc)"
      ],
      "execution_count": 25,
      "outputs": [
        {
          "output_type": "stream",
          "name": "stdout",
          "text": [
            "accuracy: 0.8\n",
            "        Pred bad  Pred good\n",
            "T bad          5          1\n",
            "T good         2          7\n"
          ]
        },
        {
          "output_type": "display_data",
          "data": {
            "text/plain": [
              "<Figure size 432x288 with 1 Axes>"
            ],
            "image/png": "[encoded data removed]"
          },
          "metadata": {
            "needs_background": "light"
          }
        }
      ]
    },
    {
      "cell_type": "markdown",
      "metadata": {
        "id": "QdKTD-JBBlsE"
      },
      "source": [
        "3. Stochastic Gradient Descent: \\\\\n",
        "  a. Default \\\\\n",
        "  b. Tuned"
      ]
    },
    {
      "cell_type": "code",
      "metadata": {
        "id": "JcphcrAGBWFQ",
        "outputId": "d344dc00-0122-4dbd-ef9e-391307e7b930",
        "colab": {
          "base_uri": "https://localhost:8080/",
          "height": 379
        }
      },
      "source": [
        "#Default SGD\n",
        "dsgd = SGDClassifier()\n",
        "dsgd.fit(train_data,train_sln)\n",
        "predictions = dsgd.predict(test_data)\n",
        "\n",
        "#output accuracy\n",
        "print(\"accuracy:\", metrics.accuracy_score(test_sln, predictions))\n",
        "vals = data[target].unique() ## possible classification values\n",
        "conf_mat = metrics.confusion_matrix(test_sln, predictions, labels=vals)\n",
        "print(pd.DataFrame(conf_mat, index = \"T \" + vals, columns = \"Pred \" + vals))\n",
        "\n",
        "plot_decision_boundary(data, 'Inner aspect ratio', 'Lambda (stm/sti)', 'Total Flag', dsgd)"
      ],
      "execution_count": 27,
      "outputs": [
        {
          "output_type": "stream",
          "name": "stdout",
          "text": [
            "accuracy: 0.7333333333333333\n",
            "        Pred bad  Pred good\n",
            "T bad          5          1\n",
            "T good         3          6\n"
          ]
        },
        {
          "output_type": "display_data",
          "data": {
            "text/plain": [
              "<Figure size 432x288 with 1 Axes>"
            ],
            "image/png": "[encoded data removed]"
          },
          "metadata": {
            "needs_background": "light"
          }
        }
      ]
    },
    {
      "cell_type": "code",
      "metadata": {
        "id": "b0QkV9YaBYBK",
        "outputId": "1a969a9e-2e40-4c23-a1cd-8ac1d2042c56",
        "colab": {
          "base_uri": "https://localhost:8080/",
          "height": 379
        }
      },
      "source": [
        "#Tuned SGD\n",
        "tsgd = SGDClassifier(loss= 'log', average= True)\n",
        "tsgd.fit(train_data,train_sln)\n",
        "predictions = tsgd.predict(test_data)\n",
        "\n",
        "#output accuracy\n",
        "print(\"accuracy:\", metrics.accuracy_score(test_sln, predictions))\n",
        "vals = data[target].unique() ## possible classification values\n",
        "conf_mat = metrics.confusion_matrix(test_sln, predictions, labels=vals)\n",
        "print(pd.DataFrame(conf_mat, index = \"T \" + vals, columns = \"Pred \" + vals))\n",
        "\n",
        "plot_decision_boundary(data, 'Lambda (stm/sti)', '[Corner] Body 1', 'Total Flag', tsgd)"
      ],
      "execution_count": 28,
      "outputs": [
        {
          "output_type": "stream",
          "name": "stdout",
          "text": [
            "accuracy: 0.8666666666666667\n",
            "        Pred bad  Pred good\n",
            "T bad          6          0\n",
            "T good         2          7\n"
          ]
        },
        {
          "output_type": "display_data",
          "data": {
            "text/plain": [
              "<Figure size 432x288 with 1 Axes>"
            ],
            "image/png": "[encoded data removed]"
          },
          "metadata": {
            "needs_background": "light"
          }
        }
      ]
    },
    {
      "cell_type": "markdown",
      "metadata": {
        "id": "tJtVW0ZLBamx"
      },
      "source": [
        "3. Now take the model that performed the best above and run a **principal component analysis** on it. "
      ]
    },
    {
      "cell_type": "code",
      "metadata": {
        "id": "gZ30YXm8Bnnq",
        "outputId": "bb7a460e-5e65-4300-c9d9-6824a6a3d79c",
        "colab": {
          "base_uri": "https://localhost:8080/",
          "height": 397
        }
      },
      "source": [
        "#PCA on best model\n",
        "# a couple of models all performed with the same accuracy (only getting one wrong), so i'm going to use the tuned SVC.\n",
        "from sklearn.decomposition import PCA\n",
        "extractor = PCA(n_components = 2, whiten = True)\n",
        "extractor.fit(train_data)\n",
        "print(extractor.explained_variance_ratio_)\n",
        "\n",
        "train_transformed = extractor.transform(train_data)\n",
        "test_transformed = extractor.transform(test_data)\n",
        "\n",
        "clf_tuned2 = SVC(kernel = 'linear', shrinking= False)\n",
        "clf_tuned2.fit(train_transformed,train_sln)\n",
        "predictions2 = clf_tuned2.predict(test_transformed)\n",
        "\n",
        "#output accuracy\n",
        "print(\"accuracy:\", metrics.accuracy_score(test_sln, predictions2))\n",
        "vals = data[target].unique() ## possible classification values\n",
        "conf_mat = metrics.confusion_matrix(test_sln, predictions2, labels=vals)\n",
        "print(pd.DataFrame(conf_mat, index = \"T \" + vals, columns = \"Pred \" + vals))\n",
        "\n",
        "plot_decision_boundary(data, 'Inner aspect ratio', 'Outer Aspect Ratio', 'Total Flag', clf_tuned2)\n"
      ],
      "execution_count": 29,
      "outputs": [
        {
          "output_type": "stream",
          "name": "stdout",
          "text": [
            "[0.37577711 0.14024275]\n",
            "accuracy: 0.4\n",
            "        Pred bad  Pred good\n",
            "T bad          6          0\n",
            "T good         9          0\n"
          ]
        },
        {
          "output_type": "display_data",
          "data": {
            "text/plain": [
              "<Figure size 432x288 with 1 Axes>"
            ],
            "image/png": "[encoded data removed]"
          },
          "metadata": {
            "needs_background": "light"
          }
        }
      ]
    }
  ]
}